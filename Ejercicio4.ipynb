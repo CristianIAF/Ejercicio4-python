{
  "nbformat": 4,
  "nbformat_minor": 0,
  "metadata": {
    "colab": {
      "provenance": []
    },
    "kernelspec": {
      "name": "python3",
      "display_name": "Python 3"
    },
    "language_info": {
      "name": "python"
    }
  },
  "cells": [
    {
      "cell_type": "markdown",
      "source": [
        "#####13 - En una empresa de venta de bienes raíces, debes crear un código que analice los datos de ventas anuales para ayudar a la dirección en la toma de decisiones. El código debe recopilar los datos de cantidad de ventas durante los años 2022 y 2023 y calcular la variación porcentual. A partir del valor de la variación, se deben proporcionar las siguientes sugerencias:\n",
        "\n",
        "###### Para una variación superior al 20%: bonificación para el equipo de ventas.\n",
        "###### Para una variación entre el 2% y el 20%: pequeña bonificación para el equipo de ventas.\n",
        "###### Para una variación entre el 2% y el -10%: planificación de políticas de incentivo a las ventas.\n",
        "###### Para bonificaciones inferiores al -10%: recorte de gastos."
      ],
      "metadata": {
        "id": "r1LtxHtJRAIt"
      }
    },
    {
      "cell_type": "markdown",
      "source": [
        "######Solicitar datos de las ventas"
      ],
      "metadata": {
        "id": "YfC18TT9RmcO"
      }
    },
    {
      "cell_type": "code",
      "source": [
        "ventas_2022 = float(input(\"Ingrese la cantidad de ventas del año 2022: \"))\n",
        "ventas_2023 = float(input(\"Ingrese la cantidad de ventas del año 2023: \"))"
      ],
      "metadata": {
        "colab": {
          "base_uri": "https://localhost:8080/"
        },
        "id": "zsYGBiXbRy7c",
        "outputId": "064e6bdd-451c-44c4-e85b-1d97ac18badb"
      },
      "execution_count": 10,
      "outputs": [
        {
          "name": "stdout",
          "output_type": "stream",
          "text": [
            "Ingrese la cantidad de ventas del año 2022: 45\n",
            "Ingrese la cantidad de ventas del año 2023: 12\n"
          ]
        }
      ]
    },
    {
      "cell_type": "markdown",
      "source": [
        "######Calcular variación porcentual"
      ],
      "metadata": {
        "id": "lAVK6SU5SXTX"
      }
    },
    {
      "cell_type": "code",
      "source": [
        "if ventas_2022 == 0:\n",
        "    print(\"Error: Las ventas de 2022 no pueden ser cero.\")\n",
        "else:\n",
        "    variacion = ((ventas_2023 - ventas_2022) / ventas_2022) * 100\n",
        "    print(f\"\\nLa variación porcentual entre 2022 y 2023 es de {variacion:.2f} %.\")"
      ],
      "metadata": {
        "colab": {
          "base_uri": "https://localhost:8080/"
        },
        "id": "ZDOidOaDShnR",
        "outputId": "7cbbfd35-2251-4e24-c612-11b450c36d90"
      },
      "execution_count": 11,
      "outputs": [
        {
          "output_type": "stream",
          "name": "stdout",
          "text": [
            "\n",
            "La variación porcentual entre 2022 y 2023 es de -73.33 %.\n"
          ]
        }
      ]
    },
    {
      "cell_type": "markdown",
      "source": [
        "######Determinar sugerencia según variación"
      ],
      "metadata": {
        "id": "ZyXhWzKNUOEb"
      }
    },
    {
      "cell_type": "code",
      "source": [
        "if variacion > 20:\n",
        "    print(\"Sugerencia: Bonificación para el equipo de ventas.\")\n",
        "elif variacion >= 2:\n",
        "    print(\"Sugerencia: Pequeña bonificación para el equipo de ventas.\")\n",
        "elif variacion >= -10:\n",
        "    print(\"Sugerencia: Planificación de políticas de incentivo a las ventas.\")\n",
        "else:\n",
        "    print(\"Sugerencia: Recorte de gastos.\")"
      ],
      "metadata": {
        "colab": {
          "base_uri": "https://localhost:8080/"
        },
        "id": "upnBsAgWUtSS",
        "outputId": "a79ad320-6c90-47d9-abb0-71c0455cb4f7"
      },
      "execution_count": 12,
      "outputs": [
        {
          "output_type": "stream",
          "name": "stdout",
          "text": [
            "Sugerencia: Recorte de gastos.\n"
          ]
        }
      ]
    }
  ]
}